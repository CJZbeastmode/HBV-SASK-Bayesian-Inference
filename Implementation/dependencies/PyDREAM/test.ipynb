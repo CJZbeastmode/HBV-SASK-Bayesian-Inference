{
 "cells": [
  {
   "cell_type": "code",
   "execution_count": 1,
   "metadata": {},
   "outputs": [],
   "source": [
    "import tensorflow as tf\n",
    "import tensorflow_probability as tfp\n",
    "from scipy.stats import uniform\n",
    "import numpy as np"
   ]
  },
  {
   "cell_type": "code",
   "execution_count": 38,
   "metadata": {},
   "outputs": [],
   "source": [
    "def interval_tf(dist, alpha=1):\n",
    "    \"\"\"Return the interval for a given alpha value.\"\"\"\n",
    "\n",
    "    lower_quantile = (1 - alpha) / 2\n",
    "    upper_quantile = 1 - lower_quantile\n",
    "    lower = dist.quantile(int(lower_quantile))\n",
    "    upper = dist.quantile(int(upper_quantile))\n",
    "    res = np.stack([lower, upper], axis=0)\n",
    "    for i in range(len(res)):\n",
    "        res[i] = np.array(res[i])\n",
    "    return res\n",
    "\n",
    "\n",
    "def interval_sp(dist, alpha=1):\n",
    "    \"\"\"Return the interval for a given alpha value.\"\"\"\n",
    "\n",
    "    return dist.interval(alpha)"
   ]
  },
  {
   "cell_type": "code",
   "execution_count": 26,
   "metadata": {},
   "outputs": [],
   "source": [
    "sp = uniform(loc=[2, 3, 5, 6], scale=[3, 4, 3, 3])\n",
    "tfa = tfp.distributions.Uniform(low=[2, 3, 5, 6], high=[5, 7, 8, 9])"
   ]
  },
  {
   "cell_type": "code",
   "execution_count": 27,
   "metadata": {},
   "outputs": [
    {
     "data": {
      "text/plain": [
       "(array([2., 3., 5., 6.]), array([5., 7., 8., 9.]))"
      ]
     },
     "execution_count": 27,
     "metadata": {},
     "output_type": "execute_result"
    }
   ],
   "source": [
    "interval_sp(sp)"
   ]
  },
  {
   "cell_type": "code",
   "execution_count": 39,
   "metadata": {},
   "outputs": [
    {
     "name": "stdout",
     "output_type": "stream",
     "text": [
      "lower: [2. 3. 5. 6.]\n",
      "upper: [5. 7. 8. 9.]\n"
     ]
    },
    {
     "data": {
      "text/plain": [
       "array([[2., 3., 5., 6.],\n",
       "       [5., 7., 8., 9.]], dtype=float32)"
      ]
     },
     "execution_count": 39,
     "metadata": {},
     "output_type": "execute_result"
    }
   ],
   "source": [
    "interval_tf(tfa)"
   ]
  },
  {
   "cell_type": "code",
   "execution_count": 1,
   "metadata": {},
   "outputs": [],
   "source": []
  },
  {
   "cell_type": "code",
   "execution_count": 3,
   "metadata": {},
   "outputs": [
    {
     "name": "stdout",
     "output_type": "stream",
     "text": [
      "1\n"
     ]
    }
   ],
   "source": [
    "def hi(*args):\n",
    "    print(args[0])\n",
    "\n",
    "\n",
    "hi(1, 2, 3, 4)"
   ]
  },
  {
   "cell_type": "code",
   "execution_count": null,
   "metadata": {},
   "outputs": [],
   "source": []
  }
 ],
 "metadata": {
  "kernelspec": {
   "display_name": "hbv_uq_env",
   "language": "python",
   "name": "python3"
  },
  "language_info": {
   "codemirror_mode": {
    "name": "ipython",
    "version": 3
   },
   "file_extension": ".py",
   "mimetype": "text/x-python",
   "name": "python",
   "nbconvert_exporter": "python",
   "pygments_lexer": "ipython3",
   "version": "3.11.8"
  }
 },
 "nbformat": 4,
 "nbformat_minor": 2
}
